{
  "nbformat": 4,
  "nbformat_minor": 0,
  "metadata": {
    "kernelspec": {
      "display_name": "Python 3",
      "language": "python",
      "name": "python3"
    },
    "language_info": {
      "codemirror_mode": {
        "name": "ipython",
        "version": 3
      },
      "file_extension": ".py",
      "mimetype": "text/x-python",
      "name": "python",
      "nbconvert_exporter": "python",
      "pygments_lexer": "ipython3",
      "version": "3.8.5"
    },
    "colab": {
      "name": "Neural Network Projects.ipynb",
      "provenance": [],
      "collapsed_sections": []
    },
    "accelerator": "GPU"
  },
  "cells": [
    {
      "cell_type": "code",
      "metadata": {
        "id": "VFN8K7o-XDDN",
        "colab": {
          "base_uri": "https://localhost:8080/"
        },
        "outputId": "2b399895-ecb1-4b69-832b-ebcac959ba54"
      },
      "source": [
        "pip install imutils"
      ],
      "execution_count": null,
      "outputs": [
        {
          "output_type": "stream",
          "name": "stdout",
          "text": [
            "Requirement already satisfied: imutils in /usr/local/lib/python3.7/dist-packages (0.5.4)\n"
          ]
        }
      ]
    },
    {
      "cell_type": "code",
      "metadata": {
        "id": "BNYgn6BcXDDS"
      },
      "source": [
        "import pandas as pd\n",
        "import numpy as np\n",
        "from tensorflow.keras.applications.mobilenet_v2 import preprocess_input\n",
        "from tensorflow.keras.preprocessing.image import load_img\n",
        "from tensorflow.keras.utils import to_categorical\n",
        "from tensorflow.keras.preprocessing.image import img_to_array\n",
        "from imutils import paths\n",
        "import os\n",
        "import warnings\n",
        "warnings.simplefilter(\"ignore\")"
      ],
      "execution_count": null,
      "outputs": []
    },
    {
      "cell_type": "markdown",
      "metadata": {
        "id": "4OekAXI9XDDT"
      },
      "source": [
        "### Read the images and convert it to arrays"
      ]
    },
    {
      "cell_type": "code",
      "metadata": {
        "colab": {
          "base_uri": "https://localhost:8080/"
        },
        "id": "ZefTYSd7ynlp",
        "outputId": "2ee9a77b-de7e-498c-f21b-2e8f9fa7f25b"
      },
      "source": [
        "from google.colab import drive\n",
        "drive.mount('/content/drive')"
      ],
      "execution_count": null,
      "outputs": [
        {
          "output_type": "stream",
          "name": "stdout",
          "text": [
            "Drive already mounted at /content/drive; to attempt to forcibly remount, call drive.mount(\"/content/drive\", force_remount=True).\n"
          ]
        }
      ]
    },
    {
      "cell_type": "code",
      "metadata": {
        "id": "5Y6rpQWCXDDU"
      },
      "source": [
        "DIRECTORY = \"/content/drive/MyDrive/NNDL Project/dataset\"\n",
        "CATEGORIES = [\"with_mask\",\"without_mask\"]"
      ],
      "execution_count": null,
      "outputs": []
    },
    {
      "cell_type": "code",
      "metadata": {
        "id": "6Jy1uKGXXDDV"
      },
      "source": [
        "data = []\n",
        "labels = []"
      ],
      "execution_count": null,
      "outputs": []
    },
    {
      "cell_type": "code",
      "metadata": {
        "id": "ZKlasQsMXDDV"
      },
      "source": [
        "for category in CATEGORIES:\n",
        "    path = os.path.join(DIRECTORY, category)\n",
        "    for img in os.listdir(path):\n",
        "        img_path = os.path.join(path, img)\n",
        "        image = load_img(img_path, target_size=(224, 224))\n",
        "        image = img_to_array(image)\n",
        "        image = preprocess_input(image)\n",
        "        data.append(image)\n",
        "        labels.append(category)"
      ],
      "execution_count": null,
      "outputs": []
    },
    {
      "cell_type": "code",
      "metadata": {
        "id": "wLexxlJAXDDW",
        "colab": {
          "base_uri": "https://localhost:8080/"
        },
        "outputId": "6853644d-53de-46bb-fadd-0ea4298b8cc6"
      },
      "source": [
        "np.unique(labels)"
      ],
      "execution_count": null,
      "outputs": [
        {
          "output_type": "execute_result",
          "data": {
            "text/plain": [
              "array(['with_mask', 'without_mask'], dtype='<U12')"
            ]
          },
          "metadata": {},
          "execution_count": 7
        }
      ]
    },
    {
      "cell_type": "markdown",
      "metadata": {
        "id": "ZGPeW0I9XDDX"
      },
      "source": [
        "###  One Hot Encoding on labels"
      ]
    },
    {
      "cell_type": "code",
      "metadata": {
        "id": "JaWwBgB9XDDX",
        "colab": {
          "base_uri": "https://localhost:8080/"
        },
        "outputId": "fc874b03-86dc-43bf-a9f0-12e2eb60345d"
      },
      "source": [
        "from sklearn.preprocessing import LabelEncoder\n",
        "label_encoder = LabelEncoder()\n",
        "label = label_encoder.fit_transform(labels)\n",
        "label"
      ],
      "execution_count": null,
      "outputs": [
        {
          "output_type": "execute_result",
          "data": {
            "text/plain": [
              "array([0, 0, 0, ..., 1, 1, 1])"
            ]
          },
          "metadata": {},
          "execution_count": 8
        }
      ]
    },
    {
      "cell_type": "code",
      "metadata": {
        "id": "aDYvHoDrRopb",
        "colab": {
          "base_uri": "https://localhost:8080/"
        },
        "outputId": "52aa2589-62f6-42c7-d7d8-7834f68b8db0"
      },
      "source": [
        "label = to_categorical(label)  #vector can be converted into a numpy array\n",
        "label"
      ],
      "execution_count": null,
      "outputs": [
        {
          "output_type": "execute_result",
          "data": {
            "text/plain": [
              "array([[1., 0.],\n",
              "       [1., 0.],\n",
              "       [1., 0.],\n",
              "       ...,\n",
              "       [0., 1.],\n",
              "       [0., 1.],\n",
              "       [0., 1.]], dtype=float32)"
            ]
          },
          "metadata": {},
          "execution_count": 9
        }
      ]
    },
    {
      "cell_type": "code",
      "metadata": {
        "id": "IDl1TPw4XDDZ"
      },
      "source": [
        "data = np.array(data, dtype=\"float32\")\n",
        "labels = np.array(label)"
      ],
      "execution_count": null,
      "outputs": []
    },
    {
      "cell_type": "code",
      "metadata": {
        "id": "New-jQNEXDDZ",
        "colab": {
          "base_uri": "https://localhost:8080/"
        },
        "outputId": "c6a060e5-884e-41fa-f2db-9f7cf46d8c96"
      },
      "source": [
        "data"
      ],
      "execution_count": null,
      "outputs": [
        {
          "output_type": "execute_result",
          "data": {
            "text/plain": [
              "array([[[[-0.6627451 , -0.7411765 , -0.67058825],\n",
              "         [-0.654902  , -0.73333335, -0.6627451 ],\n",
              "         [-0.67058825, -0.7490196 , -0.6784314 ],\n",
              "         ...,\n",
              "         [ 0.8745098 ,  0.84313726,  0.8352941 ],\n",
              "         [ 0.8745098 ,  0.84313726,  0.8352941 ],\n",
              "         [ 0.8745098 ,  0.84313726,  0.8352941 ]],\n",
              "\n",
              "        [[-0.64705884, -0.7254902 , -0.654902  ],\n",
              "         [-0.6392157 , -0.7176471 , -0.64705884],\n",
              "         [-0.64705884, -0.7254902 , -0.654902  ],\n",
              "         ...,\n",
              "         [ 0.8745098 ,  0.84313726,  0.8352941 ],\n",
              "         [ 0.8745098 ,  0.84313726,  0.8352941 ],\n",
              "         [ 0.8745098 ,  0.84313726,  0.8352941 ]],\n",
              "\n",
              "        [[-0.6392157 , -0.7176471 , -0.64705884],\n",
              "         [-0.64705884, -0.7254902 , -0.654902  ],\n",
              "         [-0.64705884, -0.7254902 , -0.654902  ],\n",
              "         ...,\n",
              "         [ 0.8745098 ,  0.84313726,  0.8352941 ],\n",
              "         [ 0.8745098 ,  0.84313726,  0.8352941 ],\n",
              "         [ 0.8745098 ,  0.84313726,  0.8352941 ]],\n",
              "\n",
              "        ...,\n",
              "\n",
              "        [[ 0.427451  ,  0.05098045, -0.10588235],\n",
              "         [ 0.4431373 ,  0.06666672, -0.09019607],\n",
              "         [ 0.45098042,  0.07450986, -0.08235294],\n",
              "         ...,\n",
              "         [ 0.827451  ,  0.6392157 ,  0.827451  ],\n",
              "         [ 0.5921569 ,  0.41960788,  0.58431375],\n",
              "         [ 0.2941177 ,  0.21568632,  0.28627455]],\n",
              "\n",
              "        [[ 0.41176474,  0.03529418, -0.12156862],\n",
              "         [ 0.45098042,  0.07450986, -0.09803921],\n",
              "         [ 0.45882356,  0.082353  , -0.09019607],\n",
              "         ...,\n",
              "         [ 0.11372554, -0.0745098 ,  0.11372554],\n",
              "         [ 0.03529418, -0.1372549 ,  0.02745104],\n",
              "         [ 0.79607844,  0.7176471 ,  0.7882353 ]],\n",
              "\n",
              "        [[ 0.41960788,  0.04313731, -0.12941176],\n",
              "         [ 0.4431373 ,  0.06666672, -0.10588235],\n",
              "         [ 0.4431373 ,  0.06666672, -0.10588235],\n",
              "         ...,\n",
              "         [ 0.254902  ,  0.06666672,  0.27058828],\n",
              "         [ 0.26274514,  0.11372554,  0.27058828],\n",
              "         [ 0.56078434,  0.48235297,  0.5529412 ]]],\n",
              "\n",
              "\n",
              "       [[[-0.5137255 , -0.5529412 , -0.5764706 ],\n",
              "         [-0.45098037, -0.5137255 , -0.5294118 ],\n",
              "         [-0.44313723, -0.52156866, -0.5294118 ],\n",
              "         ...,\n",
              "         [-0.8666667 , -0.88235295, -0.77254903],\n",
              "         [-0.8666667 , -0.88235295, -0.77254903],\n",
              "         [-0.8745098 , -0.8901961 , -0.78039217]],\n",
              "\n",
              "        [[-0.41176468, -0.47450978, -0.4980392 ],\n",
              "         [-0.6392157 , -0.7176471 , -0.73333335],\n",
              "         [-0.7019608 , -0.78039217, -0.79607844],\n",
              "         ...,\n",
              "         [-0.8666667 , -0.8745098 , -0.7647059 ],\n",
              "         [-0.8666667 , -0.8745098 , -0.7647059 ],\n",
              "         [-0.8745098 , -0.88235295, -0.77254903]],\n",
              "\n",
              "        [[-0.4980392 , -0.5764706 , -0.5921569 ],\n",
              "         [-0.69411767, -0.7647059 , -0.8039216 ],\n",
              "         [-0.81960785, -0.90588236, -0.9372549 ],\n",
              "         ...,\n",
              "         [-0.8666667 , -0.8745098 , -0.7647059 ],\n",
              "         [-0.8666667 , -0.8745098 , -0.7647059 ],\n",
              "         [-0.8745098 , -0.88235295, -0.77254903]],\n",
              "\n",
              "        ...,\n",
              "\n",
              "        [[-0.78039217, -0.79607844, -0.6862745 ],\n",
              "         [-0.8352941 , -0.8509804 , -0.7411765 ],\n",
              "         [-0.84313726, -0.85882354, -0.7490196 ],\n",
              "         ...,\n",
              "         [-0.88235295, -0.90588236, -0.77254903],\n",
              "         [-0.88235295, -0.90588236, -0.77254903],\n",
              "         [-0.8901961 , -0.9137255 , -0.78039217]],\n",
              "\n",
              "        [[-0.8117647 , -0.827451  , -0.7176471 ],\n",
              "         [-0.8509804 , -0.8666667 , -0.75686276],\n",
              "         [-0.84313726, -0.85882354, -0.7490196 ],\n",
              "         ...,\n",
              "         [-0.8745098 , -0.8980392 , -0.7647059 ],\n",
              "         [-0.88235295, -0.90588236, -0.77254903],\n",
              "         [-0.88235295, -0.90588236, -0.77254903]],\n",
              "\n",
              "        [[-0.8117647 , -0.827451  , -0.7176471 ],\n",
              "         [-0.8666667 , -0.88235295, -0.77254903],\n",
              "         [-0.8509804 , -0.8666667 , -0.75686276],\n",
              "         ...,\n",
              "         [-0.88235295, -0.90588236, -0.77254903],\n",
              "         [-0.8980392 , -0.92156863, -0.7882353 ],\n",
              "         [-0.8901961 , -0.9137255 , -0.78039217]]],\n",
              "\n",
              "\n",
              "       [[[-0.38039213, -0.38039213, -0.2862745 ],\n",
              "         [-0.38039213, -0.38039213, -0.2862745 ],\n",
              "         [-0.38039213, -0.38039213, -0.2862745 ],\n",
              "         ...,\n",
              "         [-0.00392157, -0.00392157,  0.38823533],\n",
              "         [-0.00392157, -0.00392157,  0.38823533],\n",
              "         [-0.00392157, -0.00392157,  0.38823533]],\n",
              "\n",
              "        [[-0.38039213, -0.38039213, -0.2862745 ],\n",
              "         [-0.38039213, -0.38039213, -0.2862745 ],\n",
              "         [-0.38039213, -0.38039213, -0.2862745 ],\n",
              "         ...,\n",
              "         [-0.00392157, -0.00392157,  0.38823533],\n",
              "         [-0.00392157, -0.00392157,  0.38823533],\n",
              "         [-0.00392157, -0.00392157,  0.38823533]],\n",
              "\n",
              "        [[-0.38039213, -0.38039213, -0.2862745 ],\n",
              "         [-0.38039213, -0.38039213, -0.2862745 ],\n",
              "         [-0.38039213, -0.38039213, -0.2862745 ],\n",
              "         ...,\n",
              "         [-0.06666666, -0.06666666,  0.32549024],\n",
              "         [-0.06666666, -0.06666666,  0.32549024],\n",
              "         [-0.06666666, -0.06666666,  0.32549024]],\n",
              "\n",
              "        ...,\n",
              "\n",
              "        [[-0.7411765 , -0.7411765 , -0.7254902 ],\n",
              "         [-0.7411765 , -0.7411765 , -0.7254902 ],\n",
              "         [-0.7411765 , -0.7411765 , -0.7254902 ],\n",
              "         ...,\n",
              "         [-0.7647059 , -0.7882353 , -0.73333335],\n",
              "         [-0.7647059 , -0.7882353 , -0.73333335],\n",
              "         [-0.7647059 , -0.7882353 , -0.73333335]],\n",
              "\n",
              "        [[-0.7490196 , -0.7411765 , -0.7254902 ],\n",
              "         [-0.7490196 , -0.7411765 , -0.7254902 ],\n",
              "         [-0.7490196 , -0.7411765 , -0.7254902 ],\n",
              "         ...,\n",
              "         [-0.73333335, -0.75686276, -0.7019608 ],\n",
              "         [-0.73333335, -0.75686276, -0.7019608 ],\n",
              "         [-0.73333335, -0.75686276, -0.7019608 ]],\n",
              "\n",
              "        [[-0.7490196 , -0.7411765 , -0.7254902 ],\n",
              "         [-0.7490196 , -0.7411765 , -0.7254902 ],\n",
              "         [-0.7490196 , -0.7411765 , -0.7254902 ],\n",
              "         ...,\n",
              "         [-0.73333335, -0.75686276, -0.7019608 ],\n",
              "         [-0.73333335, -0.75686276, -0.7019608 ],\n",
              "         [-0.73333335, -0.75686276, -0.7019608 ]]],\n",
              "\n",
              "\n",
              "       ...,\n",
              "\n",
              "\n",
              "       [[[ 0.8980392 ,  0.8980392 ,  0.88235295],\n",
              "         [ 0.8980392 ,  0.8980392 ,  0.88235295],\n",
              "         [ 0.8980392 ,  0.8980392 ,  0.88235295],\n",
              "         ...,\n",
              "         [ 0.6784314 ,  0.37254906,  0.14509809],\n",
              "         [ 0.69411767,  0.38823533,  0.16078436],\n",
              "         [ 0.69411767,  0.38823533,  0.16078436]],\n",
              "\n",
              "        [[ 0.8980392 ,  0.8980392 ,  0.88235295],\n",
              "         [ 0.8980392 ,  0.8980392 ,  0.88235295],\n",
              "         [ 0.8980392 ,  0.8980392 ,  0.88235295],\n",
              "         ...,\n",
              "         [ 0.6784314 ,  0.37254906,  0.14509809],\n",
              "         [ 0.69411767,  0.38823533,  0.16078436],\n",
              "         [ 0.69411767,  0.38823533,  0.16078436]],\n",
              "\n",
              "        [[ 0.8980392 ,  0.8980392 ,  0.88235295],\n",
              "         [ 0.8980392 ,  0.8980392 ,  0.88235295],\n",
              "         [ 0.8980392 ,  0.8980392 ,  0.88235295],\n",
              "         ...,\n",
              "         [ 0.7254902 ,  0.41960788,  0.19215691],\n",
              "         [ 0.73333335,  0.427451  ,  0.20000005],\n",
              "         [ 0.73333335,  0.427451  ,  0.20000005]],\n",
              "\n",
              "        ...,\n",
              "\n",
              "        [[ 0.85882354,  0.85882354,  0.84313726],\n",
              "         [ 0.85882354,  0.85882354,  0.84313726],\n",
              "         [ 0.8509804 ,  0.8509804 ,  0.8352941 ],\n",
              "         ...,\n",
              "         [ 0.48235297,  0.12156868, -0.06666666],\n",
              "         [ 0.48235297,  0.12156868, -0.06666666],\n",
              "         [ 0.48235297,  0.12156868, -0.06666666]],\n",
              "\n",
              "        [[ 0.8666667 ,  0.8666667 ,  0.8509804 ],\n",
              "         [ 0.8666667 ,  0.8666667 ,  0.8509804 ],\n",
              "         [ 0.8509804 ,  0.8509804 ,  0.8352941 ],\n",
              "         ...,\n",
              "         [ 0.47450984,  0.11372554, -0.0745098 ],\n",
              "         [ 0.4666667 ,  0.10588241, -0.08235294],\n",
              "         [ 0.4666667 ,  0.10588241, -0.08235294]],\n",
              "\n",
              "        [[ 0.8666667 ,  0.8666667 ,  0.8509804 ],\n",
              "         [ 0.8666667 ,  0.8666667 ,  0.8509804 ],\n",
              "         [ 0.8509804 ,  0.8509804 ,  0.8352941 ],\n",
              "         ...,\n",
              "         [ 0.47450984,  0.11372554, -0.0745098 ],\n",
              "         [ 0.4666667 ,  0.10588241, -0.08235294],\n",
              "         [ 0.4666667 ,  0.10588241, -0.08235294]]],\n",
              "\n",
              "\n",
              "       [[[ 0.8745098 ,  0.8666667 ,  0.8509804 ],\n",
              "         [ 0.8745098 ,  0.8666667 ,  0.8509804 ],\n",
              "         [ 0.8745098 ,  0.8666667 ,  0.8509804 ],\n",
              "         ...,\n",
              "         [ 0.85882354,  0.85882354,  0.84313726],\n",
              "         [ 0.85882354,  0.85882354,  0.84313726],\n",
              "         [ 0.8745098 ,  0.8745098 ,  0.85882354]],\n",
              "\n",
              "        [[ 0.8745098 ,  0.8666667 ,  0.8509804 ],\n",
              "         [ 0.8745098 ,  0.8666667 ,  0.8509804 ],\n",
              "         [ 0.8745098 ,  0.8666667 ,  0.8509804 ],\n",
              "         ...,\n",
              "         [ 0.85882354,  0.85882354,  0.84313726],\n",
              "         [ 0.85882354,  0.85882354,  0.84313726],\n",
              "         [ 0.8745098 ,  0.8745098 ,  0.85882354]],\n",
              "\n",
              "        [[ 0.8666667 ,  0.8666667 ,  0.8509804 ],\n",
              "         [ 0.8666667 ,  0.8666667 ,  0.8509804 ],\n",
              "         [ 0.8666667 ,  0.8666667 ,  0.8509804 ],\n",
              "         ...,\n",
              "         [ 0.8745098 ,  0.8745098 ,  0.85882354],\n",
              "         [ 0.8745098 ,  0.8745098 ,  0.85882354],\n",
              "         [ 0.85882354,  0.85882354,  0.84313726]],\n",
              "\n",
              "        ...,\n",
              "\n",
              "        [[ 0.88235295,  0.8901961 ,  0.8509804 ],\n",
              "         [ 0.88235295,  0.8901961 ,  0.8509804 ],\n",
              "         [ 0.88235295,  0.8901961 ,  0.8509804 ],\n",
              "         ...,\n",
              "         [ 0.04313731,  0.10588241,  0.254902  ],\n",
              "         [ 0.04313731,  0.10588241,  0.254902  ],\n",
              "         [-0.19999999, -0.12941176,  0.00392163]],\n",
              "\n",
              "        [[ 0.8901961 ,  0.8980392 ,  0.85882354],\n",
              "         [ 0.8901961 ,  0.8980392 ,  0.85882354],\n",
              "         [ 0.8901961 ,  0.8980392 ,  0.85882354],\n",
              "         ...,\n",
              "         [-0.01176471,  0.0196079 ,  0.2313726 ],\n",
              "         [-0.01176471,  0.0196079 ,  0.2313726 ],\n",
              "         [-0.2235294 , -0.19215685,  0.0196079 ]],\n",
              "\n",
              "        [[ 0.8901961 ,  0.8980392 ,  0.85882354],\n",
              "         [ 0.8901961 ,  0.8980392 ,  0.85882354],\n",
              "         [ 0.8901961 ,  0.8980392 ,  0.85882354],\n",
              "         ...,\n",
              "         [-0.01176471,  0.0196079 ,  0.2313726 ],\n",
              "         [-0.01176471,  0.0196079 ,  0.2313726 ],\n",
              "         [-0.2235294 , -0.19215685,  0.0196079 ]]],\n",
              "\n",
              "\n",
              "       [[[ 0.05882359,  0.03529418,  0.09019613],\n",
              "         [-0.00392157, -0.02745098,  0.02745104],\n",
              "         [-0.00392157, -0.02745098,  0.02745104],\n",
              "         ...,\n",
              "         [-0.73333335, -0.7176471 , -0.7254902 ],\n",
              "         [-0.73333335, -0.7176471 , -0.7254902 ],\n",
              "         [-0.73333335, -0.7176471 , -0.7254902 ]],\n",
              "\n",
              "        [[ 0.05882359,  0.03529418,  0.09019613],\n",
              "         [-0.00392157, -0.02745098,  0.02745104],\n",
              "         [-0.00392157, -0.02745098,  0.02745104],\n",
              "         ...,\n",
              "         [-0.73333335, -0.7176471 , -0.7254902 ],\n",
              "         [-0.73333335, -0.7176471 , -0.7254902 ],\n",
              "         [-0.73333335, -0.7176471 , -0.7254902 ]],\n",
              "\n",
              "        [[-0.00392157, -0.02745098,  0.02745104],\n",
              "         [-0.0745098 , -0.09803921, -0.04313725],\n",
              "         [-0.0745098 , -0.09803921, -0.04313725],\n",
              "         ...,\n",
              "         [-0.7647059 , -0.7490196 , -0.75686276],\n",
              "         [-0.7647059 , -0.7490196 , -0.75686276],\n",
              "         [-0.77254903, -0.75686276, -0.7647059 ]],\n",
              "\n",
              "        ...,\n",
              "\n",
              "        [[ 0.8039216 ,  0.6627451 ,  0.6313726 ],\n",
              "         [ 0.8039216 ,  0.6627451 ,  0.6313726 ],\n",
              "         [ 0.8039216 ,  0.6627451 ,  0.6313726 ],\n",
              "         ...,\n",
              "         [ 0.7411765 ,  0.5921569 ,  0.54509807],\n",
              "         [ 0.7411765 ,  0.5921569 ,  0.54509807],\n",
              "         [ 0.77254903,  0.62352943,  0.5764706 ]],\n",
              "\n",
              "        [[ 0.8039216 ,  0.6627451 ,  0.6313726 ],\n",
              "         [ 0.8039216 ,  0.6627451 ,  0.6313726 ],\n",
              "         [ 0.8039216 ,  0.6627451 ,  0.6313726 ],\n",
              "         ...,\n",
              "         [ 0.8117647 ,  0.6627451 ,  0.6156863 ],\n",
              "         [ 0.8117647 ,  0.6627451 ,  0.6156863 ],\n",
              "         [ 0.8509804 ,  0.7019608 ,  0.654902  ]],\n",
              "\n",
              "        [[ 0.8039216 ,  0.6627451 ,  0.6313726 ],\n",
              "         [ 0.8039216 ,  0.6627451 ,  0.6313726 ],\n",
              "         [ 0.8039216 ,  0.6627451 ,  0.6313726 ],\n",
              "         ...,\n",
              "         [ 0.8117647 ,  0.6627451 ,  0.6156863 ],\n",
              "         [ 0.8117647 ,  0.6627451 ,  0.6156863 ],\n",
              "         [ 0.8509804 ,  0.7019608 ,  0.654902  ]]]], dtype=float32)"
            ]
          },
          "metadata": {},
          "execution_count": 11
        }
      ]
    },
    {
      "cell_type": "code",
      "metadata": {
        "id": "Ay_pH_zfXDDZ",
        "colab": {
          "base_uri": "https://localhost:8080/"
        },
        "outputId": "c91b8667-a57d-4ced-8742-5436a5bb8d5b"
      },
      "source": [
        "labels"
      ],
      "execution_count": null,
      "outputs": [
        {
          "output_type": "execute_result",
          "data": {
            "text/plain": [
              "array([[1., 0.],\n",
              "       [1., 0.],\n",
              "       [1., 0.],\n",
              "       ...,\n",
              "       [0., 1.],\n",
              "       [0., 1.],\n",
              "       [0., 1.]], dtype=float32)"
            ]
          },
          "metadata": {},
          "execution_count": 12
        }
      ]
    },
    {
      "cell_type": "markdown",
      "metadata": {
        "id": "6accgZw8XDDa"
      },
      "source": [
        "### Train Test Split"
      ]
    },
    {
      "cell_type": "code",
      "metadata": {
        "id": "1ZJJEt2LXDDa"
      },
      "source": [
        "from sklearn.model_selection import train_test_split\n",
        "x_train,x_test,y_train,y_test = train_test_split(data,labels,test_size = 0.2)"
      ],
      "execution_count": null,
      "outputs": []
    },
    {
      "cell_type": "markdown",
      "metadata": {
        "id": "mOCEW5UFXDDa"
      },
      "source": [
        "### Training the Model"
      ]
    },
    {
      "cell_type": "code",
      "metadata": {
        "id": "j4uW8jSJXDDa"
      },
      "source": [
        "INIT_LR = 1e-4\n",
        "EPOCHS = 20\n",
        "BS = 32"
      ],
      "execution_count": null,
      "outputs": []
    },
    {
      "cell_type": "markdown",
      "metadata": {
        "id": "G4EN0dO-XDDb"
      },
      "source": [
        "#### Construct the Training Image Data Generator for Data Augmentation"
      ]
    },
    {
      "cell_type": "code",
      "metadata": {
        "id": "73GGq9u5XDDb"
      },
      "source": [
        "from tensorflow.keras.preprocessing.image import ImageDataGenerator\n",
        "aug = ImageDataGenerator(rotation_range = 20,\n",
        "                     zoom_range = 0.15,\n",
        "                     width_shift_range = 0.2,\n",
        "                     shear_range = 0.15,\n",
        "                     horizontal_flip = True,\n",
        "                     fill_mode = \"nearest\")"
      ],
      "execution_count": null,
      "outputs": []
    },
    {
      "cell_type": "code",
      "metadata": {
        "id": "XLziJniQXDDb"
      },
      "source": [
        "x_train = x_train/255.0"
      ],
      "execution_count": null,
      "outputs": []
    },
    {
      "cell_type": "code",
      "metadata": {
        "id": "Jf3mezjnXDDc"
      },
      "source": [
        "x_test = x_test/255.0"
      ],
      "execution_count": null,
      "outputs": []
    },
    {
      "cell_type": "markdown",
      "metadata": {
        "id": "KHSm83DFXDDc"
      },
      "source": [
        "### CNN Model"
      ]
    },
    {
      "cell_type": "code",
      "metadata": {
        "id": "yNzUtQwkXDDc"
      },
      "source": [
        "from tensorflow.keras.models import Sequential\n",
        "from tensorflow.keras.layers import Dense,Activation,Flatten,Dropout\n",
        "from tensorflow.keras.layers import Conv2D,MaxPooling2D\n",
        "from tensorflow.keras.callbacks import ModelCheckpoint\n",
        "from tensorflow.keras.optimizers import Adam"
      ],
      "execution_count": null,
      "outputs": []
    },
    {
      "cell_type": "code",
      "metadata": {
        "id": "yd99kMAWXDDc"
      },
      "source": [
        "model = Sequential()\n",
        "\n",
        "model.add(Conv2D(200,(3,3),input_shape = data.shape[1:]))\n",
        "model.add(Activation('relu'))\n",
        "model.add(MaxPooling2D(pool_size=(7,7)))\n",
        "\n",
        "model.add(Conv2D(100,(3,3)))\n",
        "model.add(Activation('relu'))\n",
        "model.add(MaxPooling2D(pool_size=(2,2)))\n",
        "\n",
        "model.add(Flatten())\n",
        "model.add(Dense(128,activation='relu'))\n",
        "model.add(Dropout(0.5))\n",
        "model.add(Dense(2,activation='softmax'))\n",
        "\n",
        "opt = Adam(lr = INIT_LR, decay = INIT_LR / EPOCHS)\n",
        "model.compile(loss='categorical_crossentropy',optimizer=opt,metrics=['accuracy'])"
      ],
      "execution_count": null,
      "outputs": []
    },
    {
      "cell_type": "code",
      "metadata": {
        "id": "QbKP8mHKXDDd",
        "colab": {
          "base_uri": "https://localhost:8080/"
        },
        "outputId": "fedeb071-ab7f-476b-c271-150da27f812a"
      },
      "source": [
        "face_model = model.fit(\n",
        "\taug.flow(x_train, y_train, batch_size=BS),\n",
        "\tsteps_per_epoch=len(x_train) // BS,\n",
        "\tvalidation_data=(x_test, y_test),\n",
        "\tvalidation_steps=len(x_test) // BS,\n",
        "\tepochs=EPOCHS)"
      ],
      "execution_count": null,
      "outputs": [
        {
          "output_type": "stream",
          "name": "stdout",
          "text": [
            "Epoch 1/20\n",
            "96/96 [==============================] - 57s 485ms/step - loss: 0.6621 - accuracy: 0.6571 - val_loss: 0.5655 - val_accuracy: 0.8049\n",
            "Epoch 2/20\n",
            "96/96 [==============================] - 43s 443ms/step - loss: 0.4376 - accuracy: 0.8258 - val_loss: 0.3049 - val_accuracy: 0.9025\n",
            "Epoch 3/20\n",
            "96/96 [==============================] - 43s 446ms/step - loss: 0.3205 - accuracy: 0.8800 - val_loss: 0.2444 - val_accuracy: 0.9181\n",
            "Epoch 4/20\n",
            "96/96 [==============================] - 43s 449ms/step - loss: 0.2882 - accuracy: 0.8935 - val_loss: 0.2330 - val_accuracy: 0.9194\n",
            "Epoch 5/20\n",
            "96/96 [==============================] - 43s 448ms/step - loss: 0.2929 - accuracy: 0.8882 - val_loss: 0.2190 - val_accuracy: 0.9285\n",
            "Epoch 6/20\n",
            "96/96 [==============================] - 43s 448ms/step - loss: 0.2780 - accuracy: 0.8938 - val_loss: 0.2065 - val_accuracy: 0.9272\n",
            "Epoch 7/20\n",
            "96/96 [==============================] - 43s 446ms/step - loss: 0.2570 - accuracy: 0.9080 - val_loss: 0.1998 - val_accuracy: 0.9285\n",
            "Epoch 8/20\n",
            "96/96 [==============================] - 43s 445ms/step - loss: 0.2522 - accuracy: 0.9089 - val_loss: 0.2054 - val_accuracy: 0.9324\n",
            "Epoch 9/20\n",
            "96/96 [==============================] - 43s 450ms/step - loss: 0.2515 - accuracy: 0.9030 - val_loss: 0.1996 - val_accuracy: 0.9272\n",
            "Epoch 10/20\n",
            "96/96 [==============================] - 43s 450ms/step - loss: 0.2487 - accuracy: 0.9116 - val_loss: 0.1854 - val_accuracy: 0.9376\n",
            "Epoch 11/20\n",
            "96/96 [==============================] - 43s 447ms/step - loss: 0.2494 - accuracy: 0.9076 - val_loss: 0.1865 - val_accuracy: 0.9363\n",
            "Epoch 12/20\n",
            "96/96 [==============================] - 44s 452ms/step - loss: 0.2435 - accuracy: 0.9093 - val_loss: 0.1817 - val_accuracy: 0.9389\n",
            "Epoch 13/20\n",
            "96/96 [==============================] - 43s 443ms/step - loss: 0.2319 - accuracy: 0.9158 - val_loss: 0.1753 - val_accuracy: 0.9337\n",
            "Epoch 14/20\n",
            "96/96 [==============================] - 43s 444ms/step - loss: 0.2390 - accuracy: 0.9106 - val_loss: 0.1896 - val_accuracy: 0.9194\n",
            "Epoch 15/20\n",
            "96/96 [==============================] - 43s 447ms/step - loss: 0.2274 - accuracy: 0.9168 - val_loss: 0.1689 - val_accuracy: 0.9389\n",
            "Epoch 16/20\n",
            "96/96 [==============================] - 42s 441ms/step - loss: 0.2351 - accuracy: 0.9109 - val_loss: 0.1801 - val_accuracy: 0.9415\n",
            "Epoch 17/20\n",
            "96/96 [==============================] - 42s 441ms/step - loss: 0.2314 - accuracy: 0.9162 - val_loss: 0.1717 - val_accuracy: 0.9402\n",
            "Epoch 18/20\n",
            "96/96 [==============================] - 42s 436ms/step - loss: 0.2274 - accuracy: 0.9165 - val_loss: 0.1668 - val_accuracy: 0.9454\n",
            "Epoch 19/20\n",
            "96/96 [==============================] - 42s 436ms/step - loss: 0.2337 - accuracy: 0.9149 - val_loss: 0.1665 - val_accuracy: 0.9428\n",
            "Epoch 20/20\n",
            "96/96 [==============================] - 42s 439ms/step - loss: 0.2199 - accuracy: 0.9181 - val_loss: 0.1622 - val_accuracy: 0.9441\n"
          ]
        }
      ]
    },
    {
      "cell_type": "code",
      "metadata": {
        "id": "oZC9125mXDDd",
        "colab": {
          "base_uri": "https://localhost:8080/",
          "height": 279
        },
        "outputId": "4cab877a-96f4-4a14-c25a-65a910b13093"
      },
      "source": [
        "import matplotlib.pyplot as plt\n",
        "\n",
        "plt.plot(face_model.history['loss'],'r',label='training loss')\n",
        "plt.plot(face_model.history['val_loss'],label='validation loss')\n",
        "plt.xlabel('# epochs')\n",
        "plt.ylabel('loss')\n",
        "plt.legend()\n",
        "plt.show()"
      ],
      "execution_count": null,
      "outputs": [
        {
          "output_type": "display_data",
          "data": {
            "image/png": "[encoded data removed]",
            "text/plain": [
              "<Figure size 432x288 with 1 Axes>"
            ]
          },
          "metadata": {
            "needs_background": "light"
          }
        }
      ]
    },
    {
      "cell_type": "code",
      "metadata": {
        "id": "AfrLoRarLf_-",
        "colab": {
          "base_uri": "https://localhost:8080/",
          "height": 279
        },
        "outputId": "ee83fc8d-be5e-4bb1-bbc7-f7116075ae89"
      },
      "source": [
        "plt.plot(face_model.history['accuracy'],'r',label='training accuracy')\n",
        "plt.plot(face_model.history['val_accuracy'],label='validation accuracy')\n",
        "plt.xlabel('# epochs')\n",
        "plt.ylabel('loss')\n",
        "plt.legend()\n",
        "plt.show()"
      ],
      "execution_count": null,
      "outputs": [
        {
          "output_type": "display_data",
          "data": {
            "image/png": "[encoded data removed]",
            "text/plain": [
              "<Figure size 432x288 with 1 Axes>"
            ]
          },
          "metadata": {
            "needs_background": "light"
          }
        }
      ]
    },
    {
      "cell_type": "code",
      "metadata": {
        "id": "iK_id-71McoJ",
        "colab": {
          "base_uri": "https://localhost:8080/"
        },
        "outputId": "1b7c19ec-ed55-4a75-f189-069a2b469c2c"
      },
      "source": [
        "pred = model.predict(x_test, batch_size=BS)\n",
        "pred"
      ],
      "execution_count": null,
      "outputs": [
        {
          "output_type": "execute_result",
          "data": {
            "text/plain": [
              "array([[9.9996805e-01, 3.1906198e-05],\n",
              "       [5.4045695e-01, 4.5954305e-01],\n",
              "       [1.5448750e-02, 9.8455125e-01],\n",
              "       ...,\n",
              "       [9.8000950e-01, 1.9990513e-02],\n",
              "       [6.9202036e-01, 3.0797964e-01],\n",
              "       [7.7503815e-02, 9.2249614e-01]], dtype=float32)"
            ]
          },
          "metadata": {},
          "execution_count": 23
        }
      ]
    },
    {
      "cell_type": "code",
      "metadata": {
        "id": "hyyG41zQMs1-",
        "colab": {
          "base_uri": "https://localhost:8080/"
        },
        "outputId": "14b432ae-5ba5-4e12-c5be-4ac1a3b8f3c9"
      },
      "source": [
        "pred1 = np.argmax(pred,axis = 1)\n",
        "pred1"
      ],
      "execution_count": null,
      "outputs": [
        {
          "output_type": "execute_result",
          "data": {
            "text/plain": [
              "array([0, 0, 1, 0, 0, 1, 0, 1, 0, 1, 1, 0, 0, 1, 0, 0, 1, 1, 1, 0, 1, 0,\n",
              "       0, 1, 1, 0, 1, 0, 0, 0, 1, 0, 1, 1, 1, 0, 1, 1, 0, 1, 1, 0, 0, 0,\n",
              "       1, 1, 1, 0, 0, 1, 1, 1, 0, 0, 0, 0, 0, 0, 1, 1, 0, 0, 0, 1, 1, 0,\n",
              "       0, 0, 0, 0, 1, 0, 1, 0, 1, 0, 1, 1, 0, 1, 0, 1, 0, 1, 1, 0, 0, 1,\n",
              "       0, 0, 1, 0, 1, 1, 0, 1, 1, 0, 1, 1, 1, 0, 1, 0, 1, 1, 1, 1, 1, 1,\n",
              "       0, 0, 0, 1, 0, 1, 0, 0, 1, 0, 1, 0, 1, 1, 1, 0, 1, 0, 1, 1, 0, 0,\n",
              "       1, 0, 1, 0, 0, 1, 1, 0, 0, 1, 0, 1, 0, 1, 0, 1, 1, 1, 1, 0, 0, 0,\n",
              "       1, 1, 0, 1, 0, 1, 0, 1, 1, 0, 0, 1, 0, 1, 1, 0, 1, 0, 0, 0, 0, 1,\n",
              "       0, 0, 1, 1, 1, 0, 1, 1, 1, 1, 0, 0, 0, 0, 1, 1, 1, 0, 0, 1, 0, 1,\n",
              "       0, 0, 1, 1, 1, 0, 1, 0, 1, 0, 1, 0, 0, 0, 0, 0, 0, 1, 0, 0, 1, 1,\n",
              "       0, 1, 0, 0, 0, 0, 0, 0, 1, 1, 0, 1, 1, 0, 0, 0, 1, 1, 1, 0, 1, 0,\n",
              "       0, 0, 1, 0, 0, 0, 0, 0, 1, 0, 0, 1, 0, 1, 1, 0, 1, 1, 0, 1, 1, 1,\n",
              "       0, 0, 1, 1, 0, 1, 1, 1, 1, 0, 1, 1, 1, 0, 1, 1, 1, 1, 0, 0, 0, 0,\n",
              "       0, 0, 0, 0, 1, 1, 1, 0, 1, 1, 0, 1, 0, 0, 1, 0, 1, 1, 0, 1, 0, 1,\n",
              "       1, 1, 0, 1, 1, 1, 0, 1, 1, 0, 0, 1, 1, 1, 1, 0, 1, 0, 0, 1, 0, 1,\n",
              "       0, 1, 0, 1, 0, 0, 0, 0, 0, 1, 0, 1, 0, 1, 0, 0, 0, 1, 1, 0, 1, 0,\n",
              "       1, 1, 0, 0, 1, 1, 1, 0, 0, 1, 1, 1, 0, 0, 1, 1, 0, 1, 0, 0, 0, 0,\n",
              "       0, 0, 0, 0, 0, 0, 0, 0, 1, 0, 0, 1, 1, 1, 1, 1, 1, 0, 0, 1, 1, 0,\n",
              "       1, 0, 0, 0, 1, 1, 1, 0, 1, 1, 0, 1, 0, 0, 0, 0, 1, 0, 0, 0, 1, 1,\n",
              "       1, 1, 1, 0, 0, 0, 0, 1, 0, 0, 1, 0, 1, 0, 1, 1, 0, 0, 0, 1, 1, 1,\n",
              "       1, 0, 0, 1, 1, 0, 0, 1, 1, 1, 0, 1, 1, 1, 0, 0, 0, 1, 1, 1, 1, 1,\n",
              "       0, 1, 0, 1, 0, 0, 0, 0, 1, 0, 1, 0, 0, 0, 1, 0, 1, 0, 0, 0, 0, 1,\n",
              "       0, 1, 0, 1, 0, 1, 0, 1, 1, 0, 1, 1, 0, 0, 1, 0, 1, 0, 1, 1, 0, 1,\n",
              "       1, 1, 1, 1, 1, 0, 0, 1, 1, 0, 0, 0, 1, 1, 0, 0, 1, 1, 0, 1, 0, 1,\n",
              "       0, 1, 0, 1, 0, 0, 0, 0, 1, 0, 0, 1, 0, 0, 1, 0, 1, 1, 1, 1, 0, 1,\n",
              "       0, 0, 0, 0, 0, 0, 1, 1, 0, 0, 1, 0, 0, 0, 1, 1, 1, 1, 0, 0, 0, 1,\n",
              "       0, 1, 0, 1, 1, 0, 0, 0, 0, 0, 0, 1, 0, 0, 0, 1, 0, 0, 1, 1, 1, 0,\n",
              "       1, 1, 1, 0, 1, 1, 0, 1, 0, 0, 1, 0, 0, 1, 1, 0, 1, 1, 1, 0, 1, 0,\n",
              "       1, 1, 0, 1, 1, 1, 1, 0, 0, 0, 1, 0, 1, 0, 1, 1, 0, 1, 0, 0, 0, 1,\n",
              "       1, 0, 0, 0, 0, 0, 0, 1, 1, 1, 0, 1, 0, 0, 0, 0, 1, 0, 0, 1, 0, 0,\n",
              "       1, 0, 1, 0, 1, 1, 1, 0, 0, 0, 1, 0, 1, 0, 1, 1, 0, 1, 0, 1, 1, 1,\n",
              "       1, 1, 1, 0, 0, 1, 1, 1, 1, 0, 1, 1, 1, 0, 1, 0, 1, 1, 0, 0, 0, 0,\n",
              "       1, 1, 1, 1, 1, 0, 1, 1, 1, 1, 1, 0, 0, 1, 0, 1, 0, 0, 0, 0, 1, 0,\n",
              "       1, 0, 1, 0, 1, 1, 0, 0, 0, 1, 0, 1, 1, 1, 1, 0, 0, 0, 0, 0, 0, 1,\n",
              "       1, 0, 0, 1, 0, 1, 0, 0, 1, 1, 1, 1, 0, 1, 0, 1, 1, 1, 0, 0, 1])"
            ]
          },
          "metadata": {},
          "execution_count": 24
        }
      ]
    },
    {
      "cell_type": "code",
      "metadata": {
        "id": "sANNp2iKM0ye",
        "colab": {
          "base_uri": "https://localhost:8080/"
        },
        "outputId": "447badcd-5ba9-4a0a-a776-9e05db716d28"
      },
      "source": [
        "from sklearn.metrics import classification_report\n",
        "print(classification_report(y_test.argmax(axis=1), pred1))"
      ],
      "execution_count": null,
      "outputs": [
        {
          "output_type": "stream",
          "name": "stdout",
          "text": [
            "              precision    recall  f1-score   support\n",
            "\n",
            "           0       0.95      0.94      0.95       396\n",
            "           1       0.93      0.95      0.94       373\n",
            "\n",
            "    accuracy                           0.94       769\n",
            "   macro avg       0.94      0.94      0.94       769\n",
            "weighted avg       0.94      0.94      0.94       769\n",
            "\n"
          ]
        }
      ]
    },
    {
      "cell_type": "code",
      "metadata": {
        "id": "7LrPHbCSNKBX"
      },
      "source": [
        "model.save(\"/content/drive/MyDrive/NNDL Project/mask_detector.h5\")\n"
      ],
      "execution_count": null,
      "outputs": []
    },
    {
      "cell_type": "code",
      "metadata": {
        "id": "hcuaClAsbVXs",
        "colab": {
          "base_uri": "https://localhost:8080/"
        },
        "outputId": "371f49a0-ebf0-47ca-ad5b-aeb7f099206f"
      },
      "source": [
        "model.evaluate(x_test,y_test)"
      ],
      "execution_count": null,
      "outputs": [
        {
          "output_type": "stream",
          "name": "stdout",
          "text": [
            "25/25 [==============================] - 2s 91ms/step - loss: 0.1622 - accuracy: 0.9441\n"
          ]
        },
        {
          "output_type": "execute_result",
          "data": {
            "text/plain": [
              "[0.1621571183204651, 0.9440832138061523]"
            ]
          },
          "metadata": {},
          "execution_count": 27
        }
      ]
    },
    {
      "cell_type": "code",
      "metadata": {
        "id": "_IADfyLOd6i0"
      },
      "source": [
        ""
      ],
      "execution_count": null,
      "outputs": []
    }
  ]
}